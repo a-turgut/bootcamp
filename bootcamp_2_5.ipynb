{
 "cells": [
  {
   "cell_type": "markdown",
   "metadata": {},
   "source": [
    "## Ödev 1"
   ]
  },
  {
   "cell_type": "code",
   "execution_count": null,
   "metadata": {},
   "outputs": [],
   "source": [
    "#Bir şiiri okuyup dize sayısını ekrana yazan, her dizesinin ilk kelimesini başka bir dosyaya yazan kod\n",
    "with open(\"davet.txt\", \"r\", encoding='utf8') as f:\n",
    "    dizeler = f.readlines()\n",
    "print(\"Şiirin dize sayısı :\",len(dizeler))\n",
    "f = open(\"davet_ilkkelime.txt\", 'w', encoding='utf8')\n",
    "for i in range(0, len(dizeler)):\n",
    "    dizeler[i]=dizeler[i].lstrip()\n",
    "    f.write(dizeler[i][:dizeler[i].index(' ')]+\"\\n\")\n",
    "f.close()"
   ]
  },
  {
   "cell_type": "markdown",
   "metadata": {},
   "source": [
    "## Ödev 2"
   ]
  },
  {
   "cell_type": "code",
   "execution_count": null,
   "metadata": {},
   "outputs": [],
   "source": [
    "#Bir sayının asal olup olmadığını dönen fonksiyon\n",
    "def asalmi(x):\n",
    "    count=0\n",
    "    if x<2:\n",
    "        return False\n",
    "    if x==2:\n",
    "        return True\n",
    "    elif x%2!=0:\n",
    "        for y in range(2,x//2):\n",
    "            if (x%y)==0:\n",
    "                count+=1\n",
    "                return False\n",
    "        if count==0:\n",
    "            return True\n",
    "    else:\n",
    "        return False\n",
    "\n",
    "print(asalmi(243))"
   ]
  },
  {
   "cell_type": "markdown",
   "metadata": {},
   "source": [
    "## Ödev 3"
   ]
  },
  {
   "cell_type": "code",
   "execution_count": null,
   "metadata": {
    "scrolled": true
   },
   "outputs": [],
   "source": [
    "#liste veri yapısında değer bulmaya yarayan index fonksiyonu değer olmadığı zaman hata verdiği için\n",
    "#bul() adında bir fonksiyon yazdım\n",
    "\n",
    "def bul(liste, deger):\n",
    "    try:\n",
    "        return liste.index(deger)\n",
    "    except ValueError:\n",
    "        return None\n",
    "    \n",
    "def uniq(a):\n",
    "    uniqliste=[]\n",
    "    for x in a:\n",
    "        if bul(uniqliste,x) == None:\n",
    "            uniqliste.append(x)\n",
    "    return uniqliste\n",
    "\n",
    "c=[5,7,6,4,3,4,5,6,5]\n",
    "print(uniq(c))\n"
   ]
  },
  {
   "cell_type": "markdown",
   "metadata": {},
   "source": [
    "## Ödev 4"
   ]
  },
  {
   "cell_type": "code",
   "execution_count": null,
   "metadata": {},
   "outputs": [],
   "source": [
    "import datetime\n",
    "#parametre olarak sırasıyla yıl, ay ve gün alır, yıl olarak yaşı döndürür\n",
    "def yas(year,month,day):\n",
    "    today = date.today()\n",
    "    birthday=date(year,month,day)\n",
    "    age=today-birthday\n",
    "    return age.days//365\n",
    "print(yas(1980,8,8))"
   ]
  }
 ],
 "metadata": {
  "kernelspec": {
   "display_name": "Python 3",
   "language": "python",
   "name": "python3"
  },
  "language_info": {
   "codemirror_mode": {
    "name": "ipython",
    "version": 3
   },
   "file_extension": ".py",
   "mimetype": "text/x-python",
   "name": "python",
   "nbconvert_exporter": "python",
   "pygments_lexer": "ipython3",
   "version": "3.6.7"
  }
 },
 "nbformat": 4,
 "nbformat_minor": 2
}
