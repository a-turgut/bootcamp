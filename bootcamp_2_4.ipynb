{
 "cells": [
  {
   "cell_type": "markdown",
   "metadata": {},
   "source": [
    "## Ödev 1"
   ]
  },
  {
   "cell_type": "code",
   "execution_count": null,
   "metadata": {
    "scrolled": true
   },
   "outputs": [],
   "source": [
    "derece = int(input(\"Derece değeri giriniz : \"))\n",
    "FC = input(\"Fahrenheit ya da Celcius olduğunu belirtiniz(F/C) : \").upper()\n",
    "if FC == \"F\":\n",
    "  derece = (5/9) * (derece - 32)\n",
    "  print(\"{:.2f} C\".format(derece))\n",
    "elif FC == \"C\":\n",
    "  derece = derece * (9/5) + 32\n",
    "  print(\"{:.2f} F\".format(derece))\n",
    "else: \n",
    "  print(\"Yanlış bir harf girdiniz.\")"
   ]
  },
  {
   "cell_type": "markdown",
   "metadata": {},
   "source": [
    "## Ödev 2"
   ]
  },
  {
   "cell_type": "code",
   "execution_count": null,
   "metadata": {},
   "outputs": [],
   "source": [
    "kelime = input(\"Bir kelime giriniz : \")\n",
    "print(kelime[::-1])"
   ]
  },
  {
   "cell_type": "markdown",
   "metadata": {},
   "source": [
    "## Ödev 3"
   ]
  },
  {
   "cell_type": "code",
   "execution_count": null,
   "metadata": {},
   "outputs": [],
   "source": [
    "a = b = 1\n",
    "fibo = [1,1]\n",
    "for i in range(48):\n",
    "    c = a + b\n",
    "    a = b\n",
    "    b = c\n",
    "    fibo.append(c)\n",
    "print(fibo)"
   ]
  },
  {
   "cell_type": "markdown",
   "metadata": {},
   "source": [
    "## Ödev 4"
   ]
  },
  {
   "cell_type": "code",
   "execution_count": null,
   "metadata": {},
   "outputs": [],
   "source": [
    "sayi = int(input(\"Bir sayı giriniz : \"))\n",
    "for i in range(1,11):\n",
    "    print(\"%d X %d = %d\" %(sayi,i,sayi*i))"
   ]
  },
  {
   "cell_type": "markdown",
   "metadata": {},
   "source": [
    "## Ödev 5"
   ]
  },
  {
   "cell_type": "code",
   "execution_count": null,
   "metadata": {},
   "outputs": [],
   "source": [
    "liste = [x**3 if x % 2 == 0 else x**2 for x in range(1,21)]\n",
    "print(liste)"
   ]
  }
 ],
 "metadata": {
  "kernelspec": {
   "display_name": "Python 3",
   "language": "python",
   "name": "python3"
  },
  "language_info": {
   "codemirror_mode": {
    "name": "ipython",
    "version": 3
   },
   "file_extension": ".py",
   "mimetype": "text/x-python",
   "name": "python",
   "nbconvert_exporter": "python",
   "pygments_lexer": "ipython3",
   "version": "3.6.7"
  }
 },
 "nbformat": 4,
 "nbformat_minor": 2
}
