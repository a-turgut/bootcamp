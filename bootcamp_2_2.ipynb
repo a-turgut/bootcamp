{
 "cells": [
  {
   "cell_type": "markdown",
   "metadata": {},
   "source": [
    "## Ödev 1"
   ]
  },
  {
   "cell_type": "code",
   "execution_count": 1,
   "metadata": {
    "scrolled": true
   },
   "outputs": [
    {
     "name": "stdout",
     "output_type": "stream",
     "text": [
      "1210.6814074060812\n"
     ]
    }
   ],
   "source": [
    "anapara = 1000\n",
    "gunlukfaiz = 12\n",
    "gun = 7\n",
    "toplam = anapara * (1+gunlukfaiz/100)**gun\n",
    "kar = toplam - anapara\n",
    "print(kar)"
   ]
  },
  {
   "cell_type": "markdown",
   "metadata": {},
   "source": [
    "## Ödev 2"
   ]
  },
  {
   "cell_type": "code",
   "execution_count": 2,
   "metadata": {
    "scrolled": false
   },
   "outputs": [
    {
     "name": "stdout",
     "output_type": "stream",
     "text": [
      "Hafta başında 1000 dolarlık bitcoin aldığımızda \n",
      "günde ortalama %12 kazançla, bir hafta sonunda %1210.68 dolar kazanırdık\n"
     ]
    }
   ],
   "source": [
    "# Değişkenler önceki ödevde tanımlı olduğu için öncelikle ödev 1 çalıştırılmalıdır.\n",
    "\n",
    "output= \"\"\"Hafta başında {} dolarlık bitcoin aldığımızda \n",
    "günde ortalama %{} kazançla, bir hafta sonunda %{:.2f} dolar kazanırdık\"\"\".format(anapara, gunlukfaiz, kar)\n",
    "print(output)"
   ]
  },
  {
   "cell_type": "markdown",
   "metadata": {},
   "source": [
    "## Ödev 3"
   ]
  },
  {
   "cell_type": "code",
   "execution_count": 3,
   "metadata": {},
   "outputs": [
    {
     "name": "stdout",
     "output_type": "stream",
     "text": [
      "Dosya Adı : aa\n",
      "aa.py\n"
     ]
    }
   ],
   "source": [
    "dosya_adi = input('Dosya Adı : ')\n",
    "print(dosya_adi+\".py\")"
   ]
  }
 ],
 "metadata": {
  "kernelspec": {
   "display_name": "Python 3",
   "language": "python",
   "name": "python3"
  },
  "language_info": {
   "codemirror_mode": {
    "name": "ipython",
    "version": 3
   },
   "file_extension": ".py",
   "mimetype": "text/x-python",
   "name": "python",
   "nbconvert_exporter": "python",
   "pygments_lexer": "ipython3",
   "version": "3.6.7"
  }
 },
 "nbformat": 4,
 "nbformat_minor": 2
}
