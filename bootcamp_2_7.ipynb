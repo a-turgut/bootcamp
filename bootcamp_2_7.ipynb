{
 "cells": [
  {
   "cell_type": "markdown",
   "metadata": {},
   "source": [
    "## Ödev 1"
   ]
  },
  {
   "cell_type": "code",
   "execution_count": null,
   "metadata": {},
   "outputs": [],
   "source": [
    "import pandas as pd\n",
    "import numpy as np\n",
    "\n",
    "harf_kod = ['A', 'B', 'C', 'Ç', 'D', 'E', 'F', 'G', 'Ğ', 'H']\n",
    "sayilar = pd.DataFrame(index=harf_kod)\n",
    "sayilar.index.name = 'Harf'\n",
    "sayilar['Asal'] = [2, 3, 5, 7, 11, 13, 17, 19, 23, 29]\n",
    "sayilar['Fibonacci'] = [1, 1, 2, 3, 5, 8, 13, 21, 34, 55]\n",
    "sayilar"
   ]
  },
  {
   "cell_type": "markdown",
   "metadata": {},
   "source": [
    "## Ödev 2"
   ]
  },
  {
   "cell_type": "code",
   "execution_count": null,
   "metadata": {},
   "outputs": [],
   "source": [
    "#titanic gemisindeki yolcuların cinsiyete göre yaş ortalamaları\n",
    "titanic = pd.read_csv('train.csv')\n",
    "titanic.groupby(by='Sex').mean()['Age']"
   ]
  },
  {
   "cell_type": "markdown",
   "metadata": {},
   "source": [
    "## Ödev 3"
   ]
  },
  {
   "cell_type": "code",
   "execution_count": null,
   "metadata": {},
   "outputs": [],
   "source": [
    "#titanic gemisindeki 30 yaşından küçük yolcuların, tümü, kadın ve erkek olarak hayatta kalma oranı\n",
    "survived=titanic[titanic['Survived']==1]\n",
    "young=titanic[titanic['Age']<30]\n",
    "ys=pd.merge(survived, young, left_on='PassengerId', right_on='PassengerId')\n",
    "ys_count=ys.shape[0]\n",
    "tcount=titanic.shape[0]\n",
    "print(\"30 yaşından küçük hayatta kalanların yolcu sayısına oranı: %{:.2f}\".format(ys_count/tcount*100))\n",
    "fys_count,mys_count=ys.groupby(by='Sex_x').sum()['Survived_x']\n",
    "print(\"30 yaşından küçük hayatta kalan erkeklerin yolcu sayısına oranı: %{:.2f}\".format(mys_count/tcount*100))\n",
    "print(\"30 yaşından küçük hayatta kalan kadınların yolcu sayısına oranı: %{:.2f}\".format(fys_count/tcount*100))"
   ]
  }
 ],
 "metadata": {
  "kernelspec": {
   "display_name": "Python 3",
   "language": "python",
   "name": "python3"
  },
  "language_info": {
   "codemirror_mode": {
    "name": "ipython",
    "version": 3
   },
   "file_extension": ".py",
   "mimetype": "text/x-python",
   "name": "python",
   "nbconvert_exporter": "python",
   "pygments_lexer": "ipython3",
   "version": "3.6.7"
  }
 },
 "nbformat": 4,
 "nbformat_minor": 2
}
