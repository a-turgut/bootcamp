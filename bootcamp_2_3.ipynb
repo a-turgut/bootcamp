{
 "cells": [
  {
   "cell_type": "markdown",
   "metadata": {},
   "source": [
    "## Ödev 1"
   ]
  },
  {
   "cell_type": "code",
   "execution_count": null,
   "metadata": {
    "scrolled": true
   },
   "outputs": [],
   "source": [
    "haftanin_gunleri = {\n",
    "    1: 'pazartesi',\n",
    "    2: 'salı',\n",
    "    3: 'çarşamba',\n",
    "    4: 'perşembe',\n",
    "    5: 'cuma',\n",
    "    6: 'cumartesi',\n",
    "    7: 'pazar'  \n",
    "}\n",
    "print(haftanin_gunleri)\n",
    "secim=input(\"2 farklı gün seçin, örneğin pazartesi ve salı için '12' gibi\")\n",
    "del haftanin_gunleri[int(secim[0])]\n",
    "del haftanin_gunleri[int(secim[1])]\n",
    "print(haftanin_gunleri)"
   ]
  },
  {
   "cell_type": "markdown",
   "metadata": {},
   "source": [
    "## Ödev 2"
   ]
  },
  {
   "cell_type": "code",
   "execution_count": null,
   "metadata": {
    "scrolled": false
   },
   "outputs": [],
   "source": [
    "ay_gun_dict = {\n",
    "    'Ocak': 31,\n",
    "    'Şubat' : 28,\n",
    "    'Mart' : 31,\n",
    "    'Nisan' : 30,\n",
    "    'Mayıs' : 31,\n",
    "    'Haziran' : 30,\n",
    "    'Temmuz' : 31,\n",
    "    'Ağustos' : 31,\n",
    "    'Eylül' : 30,\n",
    "    'Ekim' : 31,\n",
    "    'Kasım' : 30,\n",
    "    'Aralık' : 31\n",
    "} \n",
    "ay_gun_list = (list(ay_gun_dict.items()))\n",
    "print(ay_gun_list)"
   ]
  },
  {
   "cell_type": "markdown",
   "metadata": {},
   "source": [
    "## Ödev 3"
   ]
  },
  {
   "cell_type": "code",
   "execution_count": null,
   "metadata": {},
   "outputs": [],
   "source": [
    "ay_list = list(ay_gun_dict.keys())\n",
    "gun_list = list(ay_gun_dict.values())\n",
    "ay_gun_list2 = [ay_list,gun_list]\n",
    "print(ay_gun_list2)"
   ]
  },
  {
   "cell_type": "markdown",
   "metadata": {},
   "source": [
    "## Ödev 4"
   ]
  },
  {
   "cell_type": "code",
   "execution_count": null,
   "metadata": {},
   "outputs": [],
   "source": [
    "ilkbahar = ['Mart', 'Nisan', 'Mayıs']\n",
    "yaz = ['Haziran', 'Temmuz','Ağustos']\n",
    "sonbahar = ['Eylül', 'Ekim', 'Kasım']\n",
    "kış = ['Aralık', 'Ocak', 'Şubat']"
   ]
  },
  {
   "cell_type": "markdown",
   "metadata": {},
   "source": [
    "## Ödev 5"
   ]
  },
  {
   "cell_type": "code",
   "execution_count": null,
   "metadata": {},
   "outputs": [],
   "source": [
    "yazgun = ay_gun_list2[1][ay_gun_list2[0].index(yaz[0])] \n",
    "yazgun = yazgun + ay_gun_list2[1][ay_gun_list2[0].index(yaz[1])]\n",
    "yazgun = yazgun + ay_gun_list2[1][ay_gun_list2[0].index(yaz[2])]\n",
    "print(yazgun)"
   ]
  }
 ],
 "metadata": {
  "kernelspec": {
   "display_name": "Python 3",
   "language": "python",
   "name": "python3"
  },
  "language_info": {
   "codemirror_mode": {
    "name": "ipython",
    "version": 3
   },
   "file_extension": ".py",
   "mimetype": "text/x-python",
   "name": "python",
   "nbconvert_exporter": "python",
   "pygments_lexer": "ipython3",
   "version": "3.6.7"
  }
 },
 "nbformat": 4,
 "nbformat_minor": 2
}
